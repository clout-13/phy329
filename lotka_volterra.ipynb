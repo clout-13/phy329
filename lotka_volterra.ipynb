{
 "cells": [
  {
   "cell_type": "markdown",
   "id": "90ecb153",
   "metadata": {},
   "source": [
    "# Numerical integration and extinction rates in large random ecosystems\n",
    "\n",
    "Requirements\n",
    "+ matplotlib\n",
    "+ numpy\n",
    "+ scipy\n"
   ]
  },
  {
   "cell_type": "markdown",
   "id": "0e186f0f",
   "metadata": {
    "tags": [
     "no-pdf"
    ]
   },
   "source": [
    "**A note on cloud-hosted notebooks.** If you are running a notebook on a cloud provider, such as Google Colab or CodeOcean, remember to save your work frequently. Cloud notebooks will occasionally restart after a fixed duration, crash, or prolonged inactivity, requiring you to re-run code.\n",
    "\n",
    "<!-- [Click here to open this notebook in Colab](https://colab.research.google.com/github/williamgilpin/cphy/blob/main/hw/lotka_volterra.ipynb) -->\n",
    "[![Open In Colab](https://colab.research.google.com/assets/colab-badge.svg)](https://colab.research.google.com/github/williamgilpin/cphy/blob/main/hw/lotka_volterra.ipynb)\n",
    "\n"
   ]
  },
  {
   "cell_type": "code",
   "execution_count": null,
   "id": "6290f3ae",
   "metadata": {},
   "outputs": [],
   "source": [
    "import numpy as np\n",
    "import matplotlib.pyplot as plt\n",
    "%matplotlib inline"
   ]
  },
  {
   "cell_type": "markdown",
   "id": "d142e21e",
   "metadata": {},
   "source": [
    "<img src=\"../resources/lynx_tom_bech_ccby3.jpeg\" style=\"max-width:40%; height:auto;\">\n",
    "\n",
    "*Image from Tom Bech, CC BY 3.0 <https://creativecommons.org/licenses/by/3.0>, via Wikimedia Commons*\n",
    "\n",
    "## The Lotka-Volterra model\n",
    "\n",
    "The Lotka-Volterra model is a simple model of predator-prey interactions in a complex ecosystem. It is given by a system of coupled differential equations,\n",
    "\n",
    "$$\n",
    "    \\frac{dn_i(t)}{dt} = n_i(t) \\left( r_i + \\sum_{j=1}^N A_{ij} n_j(t)  - d_i n_i(t)\\right)\n",
    "$$\n",
    "\n",
    "where $n_i(t)$ is the number of individuals of species $i$ at time $t$, $r_i > 0$ is the intrinsic population growth rate of species $i$, $d_i > 0$ is a population-limitation constant such as overcrowding or resource scarcity, that prevents species $i$ from continuing to grow in number indefinitely. The term $A_{ij}$ is the interaction coefficient between species $i$ and $j$. The matrix $A$ is assumed to be traceless ($A_{ii}=0$ for all $i$), because the terms $r_i$ and $d_i$ cover the self-terms already. If $A_{ij} > 0$, then species $i$ benefits from the presence of species $j$, such as through symbiotic interactions, and if $A_{ij} < 0$, then species $i$ is harmed by the presence of species $j$, such as by predation. If $A_{ij} = 0$, then species $i$ and $j$ do not directly interact, though they may indirectly interact through other species. The total number of species is given by $N$, and so we have $N$ equations, one for each species.\n",
    "\n",
    "\n",
    "### A single species\n",
    "\n",
    "We can understand the behavior of Eq. (1) by first considering the case where $N=1$, in which case the dynamics become a one-dimensional ordinary differential equation,\n",
    "\n",
    "$$\n",
    "    \\frac{dn_1}{dt} = n_1 \\left( r_1 - d_{1} n_1 \\right)\n",
    "$$\n",
    "\n",
    "We may recognize that this equation defines sigmoidal growth dynamics, with exact solution given by the logistic growth curve,\n",
    "\n",
    "$$\n",
    "    n_1(t) = e^{r_1 t} \\frac{n_1(0)}{r + n_1(0)(e^{r_1 t} - 1) d_1}\n",
    "$$\n",
    "\n",
    "When $n_1$ or $d$ are small, the population grows exponentially. However, at long times, the overcrowding term, $d_1$ causes the population density to reach an asymptote $N_\\text{max} = r_1/d_1$, known in ecology as the *carrying capacity* of the population. The logistic growth curve is sometimes reparameterized in terms of this parameter.\n",
    "\n",
    "\n",
    "### Predator-prey dynamics\n",
    "\n",
    "Another well-known specific case of Eq. 1 is predator-prey dynamics when $N=2$. In this case, the model is given by\n",
    "\n",
    "$$\n",
    "    \\frac{dn_1}{dt} = -n_1 \\left( r_1 + A_{12} n_2 \\right)\n",
    "$$\n",
    "\n",
    "$$\n",
    "    \\frac{dn_2}{dt} = n_2 \\left( r_2 - A_{21} n_1  \\right)\n",
    "$$\n",
    "\n",
    "For the specific case of predator-prey interactions, we set the signs and assume all of the parameters $r_i$, $A_{ij}$ are positive. Notice that $n_1$, the predator, has a negative growth rate, and so it decreases in population in the absence of prey. However, by encountering and eating the prey (the cross-term), it can increase its population. Conversely, $n_2$ describes the prey, which can graze or forage to increase its population in the absence of predators ($r_2 > 0$). However, interactions with the predator reduce the prey population. \n",
    "\n",
    "When the interactions are balanced, the predator and prey populations will oscillate: the prey population initially increases, which causes the predator population to increase with a delay. However, as the predator population increases, it will consume more prey, which causes the prey population to decrease. This, in turn, causes the predator population to decrease, and the cycle repeats. These dynamics have previously been observed in real ecosystems containing few species, such as [the dynamics of lynxes and hares in the Canadian wilderness.](https://www.math.stonybrook.edu/~azinger/mat127-spr22/PredatorPreySystems.pdf)\n",
    "\n",
    "### Random ecosystems\n",
    "\n",
    "What do we expect for the dynamics of the predator-prey model in the limit of large ecosystems ($N \\to \\infty$)? Experimentally, each term in the species interaction matrix $A_{ij}$ requires isolating a pair of species, and measuring how they interact. Additionally, measuring the intrinsic growth and saturation rates $r_i$, $d_i$ requires an additional set of $N$ isolation experiments, for a total of $N(N+1)$ total experiments in order to pin down the values of every parameter in Eq. 1. This may be feasible in the case of lynxes and hares, but it becomes more fraught for systems like the gut microbiome ($N \\sim 10^3$ species) or a coral reef ($N \\sim 10^6$ species).\n",
    "\n",
    "In the spirit of May's work, we are therefore going to study the behavior of Eq. 1 when all of the parameters are drawn from random distributions: $r_i \\sim \\mathcal{N}(0, 1)$, $A_{ij} \\sim \\mathcal{N}(0, 1)$. Physically, that means that we assume an ecosystem with a roughly equal number of mutualistic and antagonistic interactions, and we assume that equal numbers of species grow or die out in isolation, much like the lynxes and hares. Importantly, the interactions $A$ can be *non-reciprocal*: the effect of species $i$ in the growth rate of species $j$ may not be the same as the effect of species $j$ in the growth rate of species $i$, and so $A_{ij} \\neq A_{ji}$ in general (the predator prey case above is a good example of a strongly non-reciprocal system. "
   ]
  },
  {
   "cell_type": "markdown",
   "id": "6fa6d56e",
   "metadata": {},
   "source": [
    "### To Do\n",
    "\n",
    "*Please complete the following tasks and answer the included questions. You can edit a Markdown cell in Jupyter by double-clicking on it. To return the cell to its formatted form, press `[Shift]+[Enter]`.*"
   ]
  },
  {
   "cell_type": "markdown",
   "id": "c0052177",
   "metadata": {},
   "source": [
    "1. Implement the random Lotka-Volterra model Eq. 1. We will numerically integrate this system using the built-in scipy ODE solver `scipy.integrate.solve_ivp` with the integration method `RK45` (the embedded method Runge-Kutta 4(5)). "
   ]
  },
  {
   "cell_type": "markdown",
   "id": "d4bede51",
   "metadata": {},
   "source": [
    "```\n",
    "    Your Answer: complete the code below\n",
    "```"
   ]
  },
  {
   "cell_type": "markdown",
   "id": "6475e419",
   "metadata": {},
   "source": [
    "2. We can accelerate the simulation by using a more efficient method. Implicit methods allow larger timesteps or more accurate updates, by inverting the Jacobian (a locally linear approximation of the dynamics) at each timestep. Recall that, for a system of ODEs, the Jacobian is given by the matrix of partial derivatives of the right-hand side of the equations with respect to the each of the state variables. Calculate the analytic jacobian of the Lotka-Volterra model, and then use it to implement an implicit method. This will allow us to instead use the built-in scipy ODE solver `scipy.integrate.solve_ivp` with the implicit integration method `Radau`."
   ]
  },
  {
   "cell_type": "markdown",
   "id": "f54cabcc",
   "metadata": {},
   "source": [
    "```\n",
    "    Your Answer: complete the code below\n",
    "```"
   ]
  },
  {
   "cell_type": "markdown",
   "id": "4a536505",
   "metadata": {},
   "source": [
    "3. One interesting phenomenon you will observe is that not all species survive at equilibrium, which we define as a species having a number of individuals less than our precision floor as $t \\to \\infty$. Explore what happens when you run the simulation many times. Plot the final distribution of population sizes. What does this distribution resemble? What would you expect the distribution of population sizes to look like if there were *no interactions* ($A_{ij}=0$, $i\\neq j$)? What would you expect the distribution of population sizes to look like if we instead sampled from a distribution of interactions that is *not* centered at zero? *Hint: you will find that the analytic results of [Servan et al. 2018](https://doi.org/10.1038/s41559-018-0603-6) confirm your numerical observations.*"
   ]
  },
  {
   "cell_type": "markdown",
   "id": "28286936",
   "metadata": {},
   "source": [
    "```\n",
    "    Your Answer: The distribution resembles a heavy tailed distribution with a spike at zero. If there are no interactions, I would expect there to be less or no extinctions, since every species will be able to grow to their carrying capacity. If we sampled from a distribution not centered at zero, I would expect there to be more extinction and smaller max growths. \n",
    "```"
   ]
  },
  {
   "cell_type": "markdown",
   "id": "edabacb6",
   "metadata": {},
   "source": [
    "4.  Suppose that, instead of sampling from the normal distribution, we instead sampled from a heavy-tailed distribution (a distribution with more very large values). How would you expect this to affect the *dynamics* of the system? You can try estimating this by modifying your simulation, or based on your intuition for the dynamics of the system. *Hint: the steady-state, $\\lim_{t\\to\\infty} n(t)$, is not the only thing that might change.*"
   ]
  },
  {
   "cell_type": "markdown",
   "id": "a33e58d2",
   "metadata": {},
   "source": [
    "```\n",
    "    Your Answer: Based on my intuition, I think the dynamics of the system would be much more unstable. Extreme events (oscillations, rapid extinction, etc.) will be much more common. Total time to extinction may be much shorter because of these extreme events, or the system might last for very long amounts of time, depending on what type of instability is introduced.\n",
    "```"
   ]
  },
  {
   "cell_type": "code",
   "execution_count": null,
   "id": "8d7b6def",
   "metadata": {},
   "outputs": [],
   "source": [
    "from scipy.integrate import solve_ivp\n",
    "\n",
    "class LotkaVolterra:\n",
    "    \"\"\"\n",
    "    An implementation of the Lotka-Volterra model\n",
    "\n",
    "    Parameters:\n",
    "        n (int): number of species\n",
    "        sigma (float): the scale of the randomly-sampled elements, Defaults to 1.0\n",
    "        d (float): the density-limitation strength. Defaults to 10.0\n",
    "\n",
    "    \"\"\"\n",
    "\n",
    "    def __init__(self, n, sigma=1.0, d=10.0, random_state=None):\n",
    "        self.n = n\n",
    "        self.sigma = sigma\n",
    "        self.random_state = random_state\n",
    "        np.random.seed(self.random_state)\n",
    "\n",
    "        # Random matrix\n",
    "        self.r = np.random.normal(size=(self.n,), scale=self.sigma)\n",
    "        self.A = np.random.normal(size=(self.n, self.n), scale=self.sigma)\n",
    "        self.A = self.A - np.diag(self.A)\n",
    "        self.d = d\n",
    "\n",
    "\n",
    "    def rhs(self, t, n):\n",
    "        \"\"\"\n",
    "        Given a time and a state vector, return the right-hand side of the Lotka-Volterra equations\n",
    "        \"\"\"\n",
    "        return n * (self.r + np.dot(self.A, n) - self.d * n)\n",
    "    \n",
    "\n",
    "class LotkaVolterraWithJacobian(LotkaVolterra):\n",
    "    \"\"\"\n",
    "    A subclass of the Lotka-Volterra model that adds a Jacobian functions\n",
    "    \"\"\"\n",
    "\n",
    "    def __init__(self, *args, **kwargs):\n",
    "        super().__init__(*args, **kwargs)\n",
    "\n",
    "    def jacobian(self, t, n):\n",
    "        \"\"\"\n",
    "        Given a time and a state vector, return the Jacobian of the Lotka-Volterra equations\n",
    "        \"\"\"\n",
    "        A2 = self.A - self.d * np.eye(self.n)\n",
    "        return np.diag(self.r + np.dot(A2, n)) + A2 * n[:, None]"
   ]
  },
  {
   "cell_type": "markdown",
   "id": "0fdec9e4",
   "metadata": {},
   "source": [
    "### Test and use your code\n",
    "\n",
    "+ You don't need to write any code below, these cells are just to confirm that everything is working and to play with your implementation"
   ]
  },
  {
   "cell_type": "markdown",
   "id": "d69a4e91",
   "metadata": {
    "tags": [
     "remove-cell",
     "no-pdf"
    ]
   },
   "source": [
    "+ If you are working from a local fork of the entire course, then you already have access to the solutions. In this case, make sure to `git pull` to make sure that you are up-to-date (save your work first).\n",
    "+ If you are working from a single downloaded notebook, or are working in Google Colab, then you will need to manually download the solutions file from the course repository. The lines below will do this for you."
   ]
  },
  {
   "cell_type": "code",
   "execution_count": null,
   "id": "7ed399cb",
   "metadata": {
    "tags": [
     "remove-cell",
     "no-pdf"
    ]
   },
   "outputs": [],
   "source": [
    "## Optional: Download and import the instructor solutions\n",
    "import requests\n",
    "ns={}\n",
    "exec(requests.get('https://raw.githubusercontent.com/williamgilpin/cphy/main/hw/solutions/lotka_volterra.py', timeout=10).text, ns); \n",
    "LotkaVolterra = ns['LotkaVolterra']\n",
    "LotkaVolterraWithJacobian = ns['LotkaVolterraWithJacobian']"
   ]
  },
  {
   "cell_type": "code",
   "execution_count": null,
   "id": "b332b014",
   "metadata": {},
   "outputs": [],
   "source": [
    "## Initialize simulation parameters\n",
    "N = 200\n",
    "lv = LotkaVolterra(N, random_state=0)\n",
    "# initial population sizes of all species should be greater than one\n",
    "n0 = 0.2 * np.random.uniform(size=(N,))\n",
    "sol = solve_ivp(lv.rhs, [0, 1000], n0, method=\"RK45\")\n",
    "plt.figure(figsize=(7, 5))\n",
    "plt.semilogx(sol.t, sol.y.T);\n",
    "plt.xlabel(\"Time\")\n",
    "plt.ylabel(\"Population sizes\")\n",
    "plt.title(\"Lotka Volterra Dynamics with Runge-Kutta solver\")"
   ]
  },
  {
   "cell_type": "code",
   "execution_count": null,
   "id": "10870993",
   "metadata": {},
   "outputs": [],
   "source": [
    "lvj = LotkaVolterraWithJacobian(N, random_state=0)\n",
    "sol = solve_ivp(lvj.rhs, [0, 1000], n0, jac=lvj.jacobian, method=\"LSODA\")\n",
    "plt.figure(figsize=(7, 5))\n",
    "plt.semilogx(sol.t, sol.y.T);\n",
    "plt.xlabel(\"Time\")\n",
    "plt.ylabel(\"Population sizes\")\n",
    "plt.title(\"Lotka Volterra Dynamics with Implicit solver\")"
   ]
  },
  {
   "cell_type": "code",
   "execution_count": null,
   "id": "de4dc4d2",
   "metadata": {},
   "outputs": [],
   "source": [
    "## Sample many random ecosystems, and study their asymptotic dynamics\n",
    "\n",
    "num_survivors = list()\n",
    "for seed in range(40):\n",
    "    lvj = LotkaVolterraWithJacobian(N, random_state=seed)\n",
    "    n0 = np.random.uniform(size=(N,))\n",
    "\n",
    "    # sol = solve_ivp(lvj.rhs, [0, 1000], n0)\n",
    "    sol = solve_ivp(lvj.rhs, [0, 1000], n0, jac=lvj.jacobian, method=\"Radau\")\n",
    "\n",
    "    num_survive = np.sum(sol.y[:, -1] > 1e-24)\n",
    "    num_survivors.append(num_survive)\n",
    "\n",
    "plt.hist(num_survivors)\n",
    "print(f\"The mean number of survivors is {np.mean(num_survivors)}\")\n",
    "print(f\"The standard deviation of the number of survivors is {np.std(num_survivors)}\")"
   ]
  },
  {
   "cell_type": "markdown",
   "id": "4a59be9a",
   "metadata": {},
   "source": [
    "## Additional information\n",
    "\n",
    "The predator-prey dynamics of lynxes and hares in the Canadian wilderness turn out to have slightly more complex dynamics than the simple two-species model we have considered here. [Modern analysis using tools for estimating the dimensionality of time series](https://www.pnas.org/doi/10.1073/pnas.94.10.5147) data suggest that multiple other species are coupled into the dynamics of the lynx and hare populations, such as Great-horned owls and coyotes. \n",
    "\n",
    "\n",
    "<img src=\"../resources/stenseth1997.jpeg\" style=\"max-width:40%; height:auto;\">\n",
    "\n",
    "*Image from [Stenseth, et al. 1997 (PNAS)](https://www.pnas.org/doi/10.1073/pnas.94.10.5147)*"
   ]
  },
  {
   "cell_type": "code",
   "execution_count": null,
   "id": "f133b96e",
   "metadata": {},
   "outputs": [],
   "source": []
  },
  {
   "cell_type": "code",
   "execution_count": null,
   "id": "6ef7cd77",
   "metadata": {},
   "outputs": [],
   "source": []
  },
  {
   "cell_type": "code",
   "execution_count": null,
   "id": "169637b0-6a6e-4e14-852a-d6115f698300",
   "metadata": {},
   "outputs": [],
   "source": []
  }
 ],
 "metadata": {
  "kernelspec": {
   "display_name": "Python 3 (ipykernel)",
   "language": "python",
   "name": "python3"
  },
  "language_info": {
   "codemirror_mode": {
    "name": "ipython",
    "version": 3
   },
   "file_extension": ".py",
   "mimetype": "text/x-python",
   "name": "python",
   "nbconvert_exporter": "python",
   "pygments_lexer": "ipython3",
   "version": "3.10.13"
  }
 },
 "nbformat": 4,
 "nbformat_minor": 5
}
